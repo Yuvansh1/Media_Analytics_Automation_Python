{
 "cells": [
  {
   "cell_type": "markdown",
   "metadata": {},
   "source": [
    "# Joins Problem Statement"
   ]
  },
  {
   "cell_type": "code",
   "execution_count": 45,
   "metadata": {},
   "outputs": [
    {
     "name": "stdout",
     "output_type": "stream",
     "text": [
      "Table1:\n",
      "\n",
      "     ID    Customer Billing_Address\n",
      "0  1234  Customer A      123 Street\n",
      "1  1234  Customer A             NaN\n",
      "2        Customer B      444 Street\n",
      "3  1233  Customer B      444 Street\n",
      "\n",
      "\n",
      "Table2:\n",
      "\n",
      "     ID    Customer Shipping_Address\n",
      "0  1234  Customer A              NaN\n",
      "1        Customer A       333 Street\n",
      "2  1233  Customer B       333 Street\n",
      "3  1233  Customer B       666 Street\n",
      "\n",
      "\n",
      "Inner Join Result:\n",
      "\n",
      "     ID    Customer Billing_Address Shipping_Address\n",
      "0  1234  Customer A      123 Street             None\n",
      "1  1234  Customer A            None             None\n",
      "2        Customer B      444 Street       333 Street\n",
      "3  1233  Customer B      444 Street       333 Street\n",
      "4  1233  Customer B      444 Street       666 Street\n",
      "\n",
      "\n",
      "Left Join Result:\n",
      "\n",
      "     ID    Customer Billing_Address Shipping_Address\n",
      "0  1234  Customer A      123 Street             None\n",
      "1  1234  Customer A            None             None\n",
      "2        Customer B      444 Street       333 Street\n",
      "3  1233  Customer B      444 Street       333 Street\n",
      "4  1233  Customer B      444 Street       666 Street\n",
      "\n",
      "\n",
      "Outer Join Result:\n",
      "\n",
      "     ID    Customer Billing_Address Shipping_Address\n",
      "0  1234  Customer A      123 Street             None\n",
      "1  1234  Customer A            None             None\n",
      "2        Customer B      444 Street       333 Street\n",
      "3  1233  Customer B      444 Street       333 Street\n",
      "4  1233  Customer B      444 Street       666 Street\n",
      "5  1234  Customer A            None             None\n",
      "6  1234  Customer A      123 Street             None\n",
      "7        Customer B      444 Street       333 Street\n",
      "8  1233  Customer B      444 Street       333 Street\n",
      "9  1233  Customer B      444 Street       666 Street\n"
     ]
    }
   ],
   "source": [
    "import pandas as pd\n",
    "import pandasql as ps\n",
    "import numpy as np\n",
    "\n",
    "df1 = pd.DataFrame([[1234, 'Customer A', '123 Street'],\n",
    "               [1234, 'Customer A', np.nan],\n",
    "               ['', 'Customer B', '444 Street'],\n",
    "              [1233, 'Customer B', '444 Street']], columns=\n",
    "['ID', 'Customer', 'Billing_Address'])\n",
    "\n",
    "\n",
    "df2 = pd.DataFrame([[1234,'Customer A', np.nan],\n",
    "               ['', 'Customer A','333 Street'],\n",
    "               [1233,'Customer B','333 Street'],\n",
    "              [1233, 'Customer B','666 Street']], columns=\n",
    "['ID', 'Customer','Shipping_Address'])\n",
    "\n",
    "q1 = \"\"\"SELECT a.ID, a.Customer, a.Billing_Address,b.Shipping_Address FROM df1 a INNER JOIN df2 b on a.ID = b.ID;\"\"\"\n",
    "q2 = \"\"\"SELECT a.ID, a.Customer, a.Billing_Address,b.Shipping_Address FROM df1 a LEFT JOIN df2 b on a.ID = b.ID;\"\"\"\n",
    "q3 = \"\"\"SELECT a.ID, a.Customer, a.Billing_Address,b.Shipping_Address FROM df1 a LEFT JOIN df2 b on a.ID = b.ID UNION ALL SELECT a.ID, a.Customer, a.Billing_Address,b.Shipping_Address FROM df2 b LEFT JOIN df1 a on b.ID = a.ID;\"\"\"\n",
    "\n",
    "print(\"Table1:\\n\")\n",
    "\n",
    "\n",
    "# SELECT * FROM t1\n",
    "# LEFT JOIN t2 ON t1.id = t2.id\n",
    "# UNION\n",
    "# SELECT * FROM t1\n",
    "# RIGHT JOIN t2 ON t1.id = t2.id\n",
    "\n",
    "print(df1)\n",
    "\n",
    "print(\"\\n\")\n",
    "\n",
    "print(\"Table2:\\n\")\n",
    "\n",
    "print(df2)\n",
    "print(\"\\n\")\n",
    "print(\"Inner Join Result:\\n\")\n",
    "print(ps.sqldf(q1, locals()))\n",
    "print(\"\\n\")\n",
    "print(\"Left Join Result:\\n\")\n",
    "print(ps.sqldf(q2, locals()))\n",
    "print(\"\\n\")\n",
    "print(\"Outer Join Result:\\n\")\n",
    "print(ps.sqldf(q3, locals()))"
   ]
  },
  {
   "cell_type": "markdown",
   "metadata": {},
   "source": [
    "# Cumulative sum using Self Join"
   ]
  },
  {
   "cell_type": "code",
   "execution_count": 50,
   "metadata": {
    "scrolled": true
   },
   "outputs": [
    {
     "data": {
      "text/html": [
       "<div>\n",
       "<style scoped>\n",
       "    .dataframe tbody tr th:only-of-type {\n",
       "        vertical-align: middle;\n",
       "    }\n",
       "\n",
       "    .dataframe tbody tr th {\n",
       "        vertical-align: top;\n",
       "    }\n",
       "\n",
       "    .dataframe thead th {\n",
       "        text-align: right;\n",
       "    }\n",
       "</style>\n",
       "<table border=\"1\" class=\"dataframe\">\n",
       "  <thead>\n",
       "    <tr style=\"text-align: right;\">\n",
       "      <th></th>\n",
       "      <th>ID</th>\n",
       "      <th>SomNumt</th>\n",
       "    </tr>\n",
       "  </thead>\n",
       "  <tbody>\n",
       "    <tr>\n",
       "      <th>0</th>\n",
       "      <td>1</td>\n",
       "      <td>10</td>\n",
       "    </tr>\n",
       "    <tr>\n",
       "      <th>1</th>\n",
       "      <td>2</td>\n",
       "      <td>12</td>\n",
       "    </tr>\n",
       "    <tr>\n",
       "      <th>2</th>\n",
       "      <td>3</td>\n",
       "      <td>3</td>\n",
       "    </tr>\n",
       "    <tr>\n",
       "      <th>3</th>\n",
       "      <td>4</td>\n",
       "      <td>15</td>\n",
       "    </tr>\n",
       "    <tr>\n",
       "      <th>4</th>\n",
       "      <td>5</td>\n",
       "      <td>23</td>\n",
       "    </tr>\n",
       "  </tbody>\n",
       "</table>\n",
       "</div>"
      ],
      "text/plain": [
       "   ID  SomNumt\n",
       "0   1       10\n",
       "1   2       12\n",
       "2   3        3\n",
       "3   4       15\n",
       "4   5       23"
      ]
     },
     "execution_count": 50,
     "metadata": {},
     "output_type": "execute_result"
    }
   ],
   "source": [
    "cuml_ex = pd.DataFrame([[1, 10],\n",
    "               [2, 12],\n",
    "               [3, 3],\n",
    "               [4, 15],\n",
    "              [5, 23]], columns=\n",
    "['ID', 'SomNumt'])\n",
    "cuml_ex"
   ]
  },
  {
   "cell_type": "code",
   "execution_count": 64,
   "metadata": {
    "scrolled": true
   },
   "outputs": [
    {
     "name": "stdout",
     "output_type": "stream",
     "text": [
      "Cumulative Sum using Over and Order by:\n",
      "\n",
      "   ID  SomNumt  cumulative_sum\n",
      "0   1       10              10\n",
      "1   2       12              22\n",
      "2   3        3              25\n",
      "3   4       15              40\n",
      "4   5       23              63\n",
      "\n",
      "\n",
      "Cumulative Sum using Self Join:\n",
      "\n",
      "   ID  SomNumt  cumulative_sum\n",
      "0   1       10              10\n",
      "1   2       12              22\n",
      "2   3        3              25\n",
      "3   4       15              40\n",
      "4   5       23              63\n"
     ]
    }
   ],
   "source": [
    "# Query to get cumulative sum using self join\n",
    "cuml_sum_query1 = \"\"\"Select a.ID, a.SomNumt, SUM (a.SomNumt) OVER (ORDER BY a.ID ) as cumulative_sum \n",
    "                    from cuml_ex a Order By a.ID Asc;\"\"\"\n",
    "\n",
    "cuml_sum_query2 = \"\"\"select a.ID, a.SomNumt, SUM(b.SomNumt) as cumulative_sum\n",
    "    from cuml_ex a, cuml_ex b where a.ID >= b.ID group by A.id, a.SomNumt order by a.ID;\"\"\"\n",
    "\n",
    "\n",
    "print(\"Cumulative Sum using Over and Order by:\\n\")\n",
    "print(ps.sqldf(cuml_sum_query1, locals()))\n",
    "print(\"\\n\")\n",
    "print(\"Cumulative Sum using Self Join:\\n\")\n",
    "print(ps.sqldf(cuml_sum_query2, locals()))"
   ]
  },
  {
   "cell_type": "markdown",
   "metadata": {},
   "source": [
    "# Cumulative Sum if we have two columns"
   ]
  },
  {
   "cell_type": "code",
   "execution_count": 63,
   "metadata": {},
   "outputs": [
    {
     "data": {
      "text/html": [
       "<div>\n",
       "<style scoped>\n",
       "    .dataframe tbody tr th:only-of-type {\n",
       "        vertical-align: middle;\n",
       "    }\n",
       "\n",
       "    .dataframe tbody tr th {\n",
       "        vertical-align: top;\n",
       "    }\n",
       "\n",
       "    .dataframe thead th {\n",
       "        text-align: right;\n",
       "    }\n",
       "</style>\n",
       "<table border=\"1\" class=\"dataframe\">\n",
       "  <thead>\n",
       "    <tr style=\"text-align: right;\">\n",
       "      <th></th>\n",
       "      <th>company</th>\n",
       "      <th>date</th>\n",
       "      <th>amount</th>\n",
       "    </tr>\n",
       "  </thead>\n",
       "  <tbody>\n",
       "    <tr>\n",
       "      <th>0</th>\n",
       "      <td>A</td>\n",
       "      <td>22/07/2019</td>\n",
       "      <td>15</td>\n",
       "    </tr>\n",
       "    <tr>\n",
       "      <th>1</th>\n",
       "      <td>A</td>\n",
       "      <td>23/07/2019</td>\n",
       "      <td>25</td>\n",
       "    </tr>\n",
       "    <tr>\n",
       "      <th>2</th>\n",
       "      <td>B</td>\n",
       "      <td>22/07/2019</td>\n",
       "      <td>45</td>\n",
       "    </tr>\n",
       "    <tr>\n",
       "      <th>3</th>\n",
       "      <td>B</td>\n",
       "      <td>23/07/2019</td>\n",
       "      <td>30</td>\n",
       "    </tr>\n",
       "  </tbody>\n",
       "</table>\n",
       "</div>"
      ],
      "text/plain": [
       "  company        date  amount\n",
       "0       A  22/07/2019      15\n",
       "1       A  23/07/2019      25\n",
       "2       B  22/07/2019      45\n",
       "3       B  23/07/2019      30"
      ]
     },
     "execution_count": 63,
     "metadata": {},
     "output_type": "execute_result"
    }
   ],
   "source": [
    "cuml_ex2 = pd.DataFrame([['A', '22/07/2019',15],\n",
    "               ['A', '23/07/2019',25],\n",
    "               ['B', '22/07/2019',45],\n",
    "               ['B', '23/07/2019',30]], columns=\n",
    "['company','date', 'amount'])\n",
    "cuml_ex2"
   ]
  },
  {
   "cell_type": "code",
   "execution_count": 65,
   "metadata": {
    "scrolled": true
   },
   "outputs": [
    {
     "name": "stdout",
     "output_type": "stream",
     "text": [
      "  company        date  amount  cumulative_sum\n",
      "0       A  22/07/2019      15              15\n",
      "1       B  22/07/2019      45              45\n",
      "2       A  23/07/2019      25              40\n",
      "3       B  23/07/2019      30              75\n"
     ]
    }
   ],
   "source": [
    "cuml_sum_query3 = \"\"\"select a.*,SUM(a.amount) OVER (PARTITION BY a.company ORDER BY a.date) as cumulative_sum\n",
    "    from cuml_ex2 a order by a.date;\"\"\"\n",
    "\n",
    "print(ps.sqldf(cuml_sum_query3, locals()))"
   ]
  },
  {
   "cell_type": "markdown",
   "metadata": {},
   "source": [
    "# Cumulative Sum in Python"
   ]
  },
  {
   "cell_type": "code",
   "execution_count": 69,
   "metadata": {
    "scrolled": false
   },
   "outputs": [
    {
     "data": {
      "text/html": [
       "<div>\n",
       "<style scoped>\n",
       "    .dataframe tbody tr th:only-of-type {\n",
       "        vertical-align: middle;\n",
       "    }\n",
       "\n",
       "    .dataframe tbody tr th {\n",
       "        vertical-align: top;\n",
       "    }\n",
       "\n",
       "    .dataframe thead th {\n",
       "        text-align: right;\n",
       "    }\n",
       "</style>\n",
       "<table border=\"1\" class=\"dataframe\">\n",
       "  <thead>\n",
       "    <tr style=\"text-align: right;\">\n",
       "      <th></th>\n",
       "      <th>ID</th>\n",
       "      <th>SomNumt</th>\n",
       "      <th>cumulative_sum</th>\n",
       "    </tr>\n",
       "  </thead>\n",
       "  <tbody>\n",
       "    <tr>\n",
       "      <th>0</th>\n",
       "      <td>1</td>\n",
       "      <td>10</td>\n",
       "      <td>10</td>\n",
       "    </tr>\n",
       "    <tr>\n",
       "      <th>1</th>\n",
       "      <td>2</td>\n",
       "      <td>12</td>\n",
       "      <td>22</td>\n",
       "    </tr>\n",
       "    <tr>\n",
       "      <th>2</th>\n",
       "      <td>3</td>\n",
       "      <td>3</td>\n",
       "      <td>25</td>\n",
       "    </tr>\n",
       "    <tr>\n",
       "      <th>3</th>\n",
       "      <td>4</td>\n",
       "      <td>15</td>\n",
       "      <td>40</td>\n",
       "    </tr>\n",
       "    <tr>\n",
       "      <th>4</th>\n",
       "      <td>5</td>\n",
       "      <td>23</td>\n",
       "      <td>63</td>\n",
       "    </tr>\n",
       "  </tbody>\n",
       "</table>\n",
       "</div>"
      ],
      "text/plain": [
       "   ID  SomNumt  cumulative_sum\n",
       "0   1       10              10\n",
       "1   2       12              22\n",
       "2   3        3              25\n",
       "3   4       15              40\n",
       "4   5       23              63"
      ]
     },
     "execution_count": 69,
     "metadata": {},
     "output_type": "execute_result"
    }
   ],
   "source": [
    "df_py_cuml = cuml_ex.copy()\n",
    "df_py_cuml['cumulative_sum'] = cuml_ex['SomNumt'].cumsum()\n",
    "df_py_cuml"
   ]
  },
  {
   "cell_type": "markdown",
   "metadata": {},
   "source": [
    "# Transpose in Python Pandas"
   ]
  },
  {
   "cell_type": "code",
   "execution_count": 84,
   "metadata": {},
   "outputs": [
    {
     "name": "stdout",
     "output_type": "stream",
     "text": [
      "Before Transpose:\n",
      "\n",
      "    A   B   C\n",
      "0  11  44  77\n",
      "1  22  55  88\n",
      "2  33  66  99\n",
      "\n",
      "\n",
      "After Transpose:\n",
      "\n",
      "    0   1   2\n",
      "A  11  22  33\n",
      "B  44  55  66\n",
      "C  77  88  99\n"
     ]
    }
   ],
   "source": [
    "import pandas as pd\n",
    "\n",
    "data = {'A': [11,22,33],\n",
    "        'B': [44,55,66],\n",
    "        'C': [77,88,99]\n",
    "        }\n",
    "\n",
    "df = pd.DataFrame(data, columns = ['A', 'B', 'C'])\n",
    "\n",
    "df1 = df.copy()\n",
    "\n",
    "df1= df.transpose()\n",
    "\n",
    "print(\"Before Transpose:\\n\")\n",
    "print(df)\n",
    "print(\"\\n\")\n",
    "print(\"After Transpose:\\n\")\n",
    "print (df1)"
   ]
  }
 ],
 "metadata": {
  "kernelspec": {
   "display_name": "Python 3",
   "language": "python",
   "name": "python3"
  },
  "language_info": {
   "codemirror_mode": {
    "name": "ipython",
    "version": 3
   },
   "file_extension": ".py",
   "mimetype": "text/x-python",
   "name": "python",
   "nbconvert_exporter": "python",
   "pygments_lexer": "ipython3",
   "version": "3.8.3"
  }
 },
 "nbformat": 4,
 "nbformat_minor": 4
}
